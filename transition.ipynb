{
 "cells": [
  {
   "cell_type": "markdown",
   "id": "58cd7cd7-6e97-4135-afc8-d926bb714265",
   "metadata": {},
   "source": [
    "## Генерация последовательности перехода от картинки к картинке\n",
    "Используются веса, созданные нейросетью *(learn.ipynb)*, обученной на разных картинках.    \n",
    "Веса, обученые на одной картинке изменяются, что бы через заданное количество шагов   \n",
    "соответствовать весам, обученным на другой картинке.   \n",
    "На каждом шаге происходит сохранение изображения в .png файл указаного размера."
   ]
  },
  {
   "cell_type": "code",
   "execution_count": null,
   "id": "f3302d4d-c2c5-40b7-9db2-3667736910b5",
   "metadata": {
    "tags": []
   },
   "outputs": [],
   "source": [
    "import numpy\n",
    "import scipy.special\n",
    "import imageio\n",
    "import matplotlib.pyplot\n",
    "# ensure the plots are inside this notebook, not an external window\n",
    "%matplotlib inline"
   ]
  },
  {
   "cell_type": "markdown",
   "id": "0b8fb825-9f5e-46fe-9159-863a2760b059",
   "metadata": {},
   "source": [
    "## параметры"
   ]
  },
  {
   "cell_type": "markdown",
   "id": "4ecccb0a-beab-4262-bf15-c082ec22e303",
   "metadata": {},
   "source": [
    "- **Ширина** и **высота** желаемого результата   \n",
    "- **Имя папки**, где будет сохранён результат    \n",
    "- **количество нейронов** в скрытом слое   \n",
    "\n",
    "**ВНИМАНИЕ!** все обученные примеры должны быть обученны именно при таком значении скрытых нейронов."
   ]
  },
  {
   "cell_type": "code",
   "execution_count": null,
   "id": "540e8610-95e4-4db0-ba6c-3456ef246bc2",
   "metadata": {
    "scrolled": true,
    "tags": []
   },
   "outputs": [],
   "source": [
    "width = 200\n",
    "height = 200\n",
    "\n",
    "folder = 'result'  # имя папки, где будут сохраняться картинки\n",
    "\n",
    "neuron_count = 150\n",
    "\n",
    "# здесь будем формировать картинку\n",
    "imout = numpy.zeros(( height, width , 3))\n",
    "\n",
    "# папка, откуда будем брать веса. \n",
    "# Имя зависит от количества скрытых нейронов\n",
    "wFolder = 'W-' + str(neuron_count) + '/'"
   ]
  },
  {
   "cell_type": "markdown",
   "id": "655dac21-0693-4ddf-831e-07e17121812a",
   "metadata": {},
   "source": [
    "### код нейросети"
   ]
  },
  {
   "cell_type": "code",
   "execution_count": null,
   "id": "c751e615-5748-4c49-b71d-41c051c797ab",
   "metadata": {
    "tags": []
   },
   "outputs": [],
   "source": [
    "# neural network class definition\n",
    "class neuralNetwork:\n",
    "    # initialise the neural network\n",
    "    def __init__(self, neuron_count,w11,w21,w31,w12,w22,w32):\n",
    "        # set number of nodes in each input, hidden, output layer\n",
    "        self.inpNodes = 3\n",
    "        self.hd1Nodes = neuron_count\n",
    "        self.hd2Nodes = neuron_count\n",
    "        self.outNodes = 3\n",
    "\n",
    "        self.wih1 = numpy.load(wFolder + w11)\n",
    "        self.wh1h2= numpy.load(wFolder + w21)\n",
    "        self.wh2o = numpy.load(wFolder + w31) \n",
    "        \n",
    "        self.wih1_1 = numpy.load(wFolder + w11)\n",
    "        self.wh1h2_1= numpy.load(wFolder + w21)\n",
    "        self.wh2o_1 = numpy.load(wFolder + w31) \n",
    "        \n",
    "        self.wih1_2  = numpy.load(wFolder + w12)\n",
    "        self.wh1h2_2 = numpy.load(wFolder + w22)\n",
    "        self.wh2o_2  = numpy.load(wFolder + w32)  \n",
    "\n",
    "        self.activation_function = lambda x: scipy.special.expit(x)\n",
    "\n",
    "    def setWeight( self, currentStep, countOfStep):\n",
    "        cs = countOfStep-1\n",
    "        for x in range(0, self.hd1Nodes):\n",
    "            for y in range(0, self.inpNodes):\n",
    "                self.wih1[x,y] = self.wih1_1[x,y] + ((self.wih1_2[x,y]-self.wih1_1[x,y])/cs)*currentStep\n",
    "                \n",
    "        for x in range(0, self.hd2Nodes):\n",
    "            for y in range(0, self.hd1Nodes):\n",
    "                self.wh1h2[x,y] = self.wh1h2_1[x,y] + ((self.wh1h2_2[x,y]-self.wh1h2_1[x,y])/cs)*currentStep\n",
    "                \n",
    "        for x in range(0,self.outNodes):\n",
    "            for y in range(0,self.hd2Nodes):\n",
    "                self.wh2o[x,y] = self.wh2o_1[x,y] + ((self.wh2o_2[x,y]-self.wh2o_1[x,y])/cs)*currentStep  \n",
    "        \n",
    "\n",
    "    # query the neural network\n",
    "    def query(self, inputs_list):\n",
    "                \n",
    "        # convert inputs list to 2d array\n",
    "        inputs = numpy.array(inputs_list, ndmin=2).T\n",
    "        \n",
    "        # calculate signals into hidden layer\n",
    "        hidden1_inputs = numpy.dot(self.wih1, inputs)\n",
    "        # calculate the signals emerging from hidden layer\n",
    "        hidden1_outputs = self.activation_function(hidden1_inputs)\n",
    "        \n",
    "        # calculate signals into hidden2 layer\n",
    "        hidden2_inputs = numpy.dot(self.wh1h2, hidden1_outputs)\n",
    "        # calculate the signals emerging from hidden layer\n",
    "        hidden2_outputs = self.activation_function(hidden2_inputs)        \n",
    "        \n",
    "        # calculate signals into final output layer\n",
    "        final_inputs = numpy.dot(self.wh2o, hidden2_outputs)\n",
    "        # calculate the signals emerging from final output layer\n",
    "        final_outputs = self.activation_function(final_inputs)\n",
    "        \n",
    "        return final_outputs\n",
    "            "
   ]
  },
  {
   "cell_type": "markdown",
   "id": "513b0573-b17c-43ed-aead-24434a6ab739",
   "metadata": {},
   "source": [
    "#### дополнительные функции"
   ]
  },
  {
   "cell_type": "code",
   "execution_count": null,
   "id": "ca4ed2a7-cd33-4227-9266-da3c451fbb0a",
   "metadata": {
    "tags": []
   },
   "outputs": [],
   "source": [
    "def get_inputs(x,y):\n",
    "    return [y/height+0.1, x/width+0.1, 1]\n",
    "\n",
    "def generate_image():\n",
    "    for x in range(0,width):\n",
    "        for y in range(0,height):\n",
    "            inputs = get_inputs(x,y)\n",
    "            result = nn.query(inputs)\n",
    "            imout[y,x,0] = result[0]*255\n",
    "            imout[y,x,1] = result[1]*255\n",
    "            imout[y,x,2] = result[2]*255\n",
    "            \n",
    "def doit(steps,f,s):  #      \n",
    "    global startFileName\n",
    "    global neuron_count\n",
    "    global nn\n",
    "    nn = neuralNetwork( neuron_count,'w' +str(f)+ '_1.npy', 'w' +str(f)+ '_2.npy', 'w' +str(f)+'_3.npy',\n",
    "                                     'w' +str(s)+ '_1.npy', 'w' +str(s)+ '_2.npy', 'w' +str(s)+'_3.npy')\n",
    "    for i in range(0,steps): \n",
    "        nn.setWeight(i,steps)\n",
    "        generate_image()\n",
    "        imageio.imwrite(folder + '/' + str(startFileName) + '.png',  imout[:, :, :].astype(numpy.uint8))\n",
    "        i += 1\n",
    "        startFileName += 1         "
   ]
  },
  {
   "cell_type": "markdown",
   "id": "59e4ada5-5c3a-4f92-a69d-1606001300f7",
   "metadata": {},
   "source": [
    "## Финальная часть"
   ]
  },
  {
   "cell_type": "markdown",
   "id": "28a71d8c-0355-4236-a8bb-7acc2bcf8c85",
   "metadata": {},
   "source": [
    "Вначале задаём число, которое будет использоваться для имени первого файла в последовательности.  \n",
    "Первым агрументом у функции **doit()** указываем количество кадров, которое будет длится преобразование.  \n",
    "Затем номер первого и второго изображения  \n",
    "Например:\n",
    "```\n",
    "startFileName = 0\n",
    "doit(40,7,5)\n",
    "doit(40,5,3)\n",
    "```\n",
    "- Файлы начнут сохраняться с 0.png\n",
    "- Вначале за 40 кадров произойдёт преобразование из **7** картинки в **5**  *(0.png ... 39.png)*   \n",
    "- затем за 40 кадров из **5** картинки в **3**. *(40.png ... 79.png)*"
   ]
  },
  {
   "cell_type": "code",
   "execution_count": null,
   "id": "5a574ad1-b429-4a5a-9c5b-404cfa423771",
   "metadata": {},
   "outputs": [],
   "source": [
    "startFileName = 0\n",
    "\n",
    "print('Ждите. идёт генерация')\n",
    "print(f'за результатом можно следить в папке {folder}')\n",
    "\n",
    "doit(40,7,5)\n",
    "doit(40,5,3)\n",
    "\n",
    "print('Всё')"
   ]
  },
  {
   "cell_type": "code",
   "execution_count": null,
   "id": "82405de5",
   "metadata": {},
   "outputs": [],
   "source": []
  }
 ],
 "metadata": {
  "kernelspec": {
   "display_name": "Python 3",
   "language": "python",
   "name": "python3"
  },
  "language_info": {
   "codemirror_mode": {
    "name": "ipython",
    "version": 3
   },
   "file_extension": ".py",
   "mimetype": "text/x-python",
   "name": "python",
   "nbconvert_exporter": "python",
   "pygments_lexer": "ipython3",
   "version": "3.8.8"
  }
 },
 "nbformat": 4,
 "nbformat_minor": 5
}

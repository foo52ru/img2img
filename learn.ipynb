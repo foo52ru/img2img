{
 "cells": [
  {
   "cell_type": "markdown",
   "id": "a8c84485-490a-456b-b024-5d41b3818e03",
   "metadata": {
    "tags": []
   },
   "source": [
    "## Создание нейросети для запоминания рисунка"
   ]
  },
  {
   "cell_type": "code",
   "execution_count": null,
   "id": "7f853383",
   "metadata": {
    "tags": []
   },
   "outputs": [],
   "source": [
    "import numpy\n",
    "import scipy.special\n",
    "import imageio\n",
    "import matplotlib.pyplot\n",
    "%matplotlib inline\n",
    "import random"
   ]
  },
  {
   "cell_type": "markdown",
   "id": "dca9649e-cc07-4ba0-9cef-13caa50eca8d",
   "metadata": {},
   "source": [
    "### предустановки\n",
    "- **loadWeights**  Вначале надо указать, нужно ли создавать новые файлы весов или использовать старые.\n",
    "  Если нужно использовать уже сохранёные веса, то следует указать    \n",
    "  ```loadWeights = True```   \n",
    "  Если обучение на данной картинке только начинается, то указываем\n",
    "  ```loadWeights = False```   \n",
    "  при этом создадутся новые файлы с весами нейросети, которые будут обновлятся в процессе обучения.\n",
    "- **imageFileNumber** Номер картинки. Картинки для обучения хранятся в папке **img/** и имеют имя: **номер**+**\".png\"**\n",
    "- **learning_rate** Скорость обучения. Я использовал **0.1**\n",
    "- **neuron_count** Количество нейронов в скрытых слоях **(2 слоя)**     \n",
    "  Чем меньше, тем быстрее происходит обучение, но возможны проблемы на сложных рисунках.     \n",
    "  У меня неплохо получалось при **30** нейронов в скрытых слоях     \n",
    "  Здесь я оставил **150**, так как есть комплект обученных нейронок с этим количеством,    \n",
    "  а для создания перехода, нужны нейронки, обученные на одной и той же конфигурации нейросети.     \n",
    "  Все файлы весов хранятся в папке **\"W-150/\"** (по 3 файла на каждый рисунок из папки **\"img/\"**)   \n",
    "  Если планируете использовать количество нейронов отличное от **150**, то нужно создать соответствующую папку    \n",
    "  **\"W-\"** + **количество нейронов** в скрытых слоях\n",
    "- **folder** Имя папки (+ слэш) где можно будет посмотреть результат обучения в виде последовательности картинок"
   ]
  },
  {
   "cell_type": "code",
   "execution_count": null,
   "id": "9c577b09-53f5-44c3-b4e1-79cdd3e5b799",
   "metadata": {
    "tags": []
   },
   "outputs": [],
   "source": [
    "# ======== начало предустановок, задаваемых пользователем   ==========\n",
    "\n",
    "loadWeights = False  # Если нужно создать новые\n",
    "#loadWeights = True  # Если нужно использовать существующие веса\n",
    "\n",
    "imageFileNumber= 1\n",
    "\n",
    "learning_rate = 0.1\n",
    "neuron_count = 150\n",
    "\n",
    "folder = 'progres/'  # имя папки, где будут сохраняться скриншоты\n",
    "\n",
    "# ======== конец предустановок, задаваемых пользователем   ==========\n",
    "\n",
    "# генерируются имена для файлов с весами нейросети\n",
    "WeightFile1 = 'W-' + str(neuron_count) + '/'+'w1_' + str(imageFileNumber) + '.npy'\n",
    "WeightFile2 = 'W-' + str(neuron_count) + '/'+'w2_' + str(imageFileNumber) + '.npy'\n",
    "WeightFile3 = 'W-' + str(neuron_count) + '/'+'w3_' + str(imageFileNumber) + '.npy'\n",
    "\n",
    "# загружаем картинку\n",
    "imageFile = 'img/' + str(imageFileNumber) + '.png'\n",
    "\n",
    "im = imageio.imread(imageFile)\n",
    "imout = imageio.imread(imageFile)\n",
    "matplotlib.pyplot.imshow(im, interpolation='None')\n",
    "\n",
    "# узнаём параметры картинки\n",
    "height = im.shape[0]\n",
    "width  = im.shape[1]"
   ]
  },
  {
   "cell_type": "markdown",
   "id": "12c3d35b",
   "metadata": {
    "tags": []
   },
   "source": [
    "### нейросеть"
   ]
  },
  {
   "cell_type": "code",
   "execution_count": null,
   "id": "6b3b3e22",
   "metadata": {
    "tags": []
   },
   "outputs": [],
   "source": [
    "# neural network class definition\n",
    "class neuralNetwork:\n",
    "    # initialise the neural network\n",
    "    def __init__(self, inputnodes, hiddennodes1, hiddennodes2, outputnodes, learningrate, loadWeights = False):\n",
    "        # set number of nodes in each input, hidden, output layer\n",
    "        self.inpNodes = inputnodes\n",
    "        self.hd1Nodes = hiddennodes1\n",
    "        self.hd2Nodes = hiddennodes2\n",
    "        self.outNodes = outputnodes\n",
    "        \n",
    "        if(loadWeights):\n",
    "            self.wih1 = numpy.load(WeightFile1)\n",
    "            self.wh1h2= numpy.load(WeightFile2)\n",
    "            self.wh2o = numpy.load(WeightFile3)          \n",
    "        else:\n",
    "            self.wih1  = numpy.random.rand(self.hd1Nodes, self.inpNodes)/10-0.05\n",
    "            self.wh1h2 = numpy.random.rand(self.hd2Nodes, self.hd1Nodes)/10-0.05\n",
    "            self.wh2o  = numpy.random.rand(self.outNodes, self.hd2Nodes)/10-0.05\n",
    "        \n",
    "        self.lr = learningrate\n",
    "\n",
    "        self.activation_function = lambda x: scipy.special.expit(x)\n",
    "    \n",
    "    # train the neural network\n",
    "    def train(self, inputs_list, targets_list):\n",
    "            # convert inputs list to 2d array\n",
    "        inputs = numpy.array(inputs_list, ndmin=2).T\n",
    "        targets = numpy.array(targets_list, ndmin=2).T\n",
    "        \n",
    "            # calculate signals into hidden1 layer\n",
    "        hidden1_inputs = numpy.dot(self.wih1, inputs)\n",
    "            # calculate the signals emerging from hidden layer\n",
    "        hidden1_outputs = self.activation_function(hidden1_inputs)\n",
    "\n",
    "            # calculate signals into hidden2 layer\n",
    "        hidden2_inputs = numpy.dot(self.wh1h2, hidden1_outputs)\n",
    "            # calculate the signals emerging from hidden layer\n",
    "        hidden2_outputs = self.activation_function(hidden2_inputs)\n",
    "        \n",
    "            # calculate signals into final output layer\n",
    "        final_inputs = numpy.dot(self.wh2o, hidden2_outputs)\n",
    "            # calculate the signals emerging from final output layer\n",
    "        final_outputs = self.activation_function(final_inputs)\n",
    "        \n",
    "        \n",
    "            # output layer error is the (target - actual)\n",
    "        output_errors = (targets - final_outputs) * final_outputs * (1.0 - final_outputs)\n",
    "        \n",
    "            # hidden2 layer error is the output_errors, split by weights, recombined at hidden2 nodes\n",
    "        hidden2_errors = numpy.dot(self.wh2o.T, output_errors) * hidden2_outputs * (1.0 - hidden2_outputs)\n",
    "\n",
    "            # hidden1 layer error is the hidden2_errors, split by weights, recombined at hidden1 nodes\n",
    "        hidden1_errors = numpy.dot(self.wh1h2.T, hidden2_errors) * hidden1_outputs * (1.0 - hidden1_outputs)\n",
    "        \n",
    "\n",
    "            # update the weights for the links between the hidden and output layers\n",
    "        self.wh2o += self.lr * numpy.dot( output_errors, numpy.transpose(hidden2_outputs))\n",
    "        \n",
    "            # update the weights for the links between the hidden and output layers\n",
    "        self.wh1h2 += self.lr * numpy.dot( hidden2_errors, numpy.transpose(hidden1_outputs))\n",
    "        \n",
    "            # update the weights for the links between the input and hidden layers\n",
    "        self.wih1 += self.lr * numpy.dot( hidden1_errors, numpy.transpose(inputs))\n",
    "\n",
    "    \n",
    "    # query the neural network\n",
    "    def query(self, inputs_list):\n",
    "        # convert inputs list to 2d array\n",
    "        inputs = numpy.array(inputs_list, ndmin=2).T\n",
    "        \n",
    "        # calculate signals into hidden layer\n",
    "        hidden1_inputs = numpy.dot(self.wih1, inputs)\n",
    "        # calculate the signals emerging from hidden layer\n",
    "        hidden1_outputs = self.activation_function(hidden1_inputs)\n",
    "        \n",
    "        # calculate signals into hidden2 layer\n",
    "        hidden2_inputs = numpy.dot(self.wh1h2, hidden1_outputs)\n",
    "        # calculate the signals emerging from hidden layer\n",
    "        hidden2_outputs = self.activation_function(hidden2_inputs)        \n",
    "        \n",
    "        # calculate signals into final output layer\n",
    "        final_inputs = numpy.dot(self.wh2o, hidden2_outputs)\n",
    "        # calculate the signals emerging from final output layer\n",
    "        final_outputs = self.activation_function(final_inputs)\n",
    "        \n",
    "        return final_outputs\n",
    "    \n",
    "    def saveWeight(self):\n",
    "        numpy.save(WeightFile1 , self.wih1 )\n",
    "        numpy.save(WeightFile2 , self.wh1h2)\n",
    "        numpy.save(WeightFile3 , self.wh2o )\n"
   ]
  },
  {
   "cell_type": "markdown",
   "id": "15e46f06",
   "metadata": {},
   "source": [
    "### дополнительные функции"
   ]
  },
  {
   "cell_type": "code",
   "execution_count": null,
   "id": "77a6a982",
   "metadata": {
    "tags": []
   },
   "outputs": [],
   "source": [
    "# inputs, targets\n",
    "def get_inputs(x,y):\n",
    "    return [y/height+0.1, x/width+0.1, 1]\n",
    "\n",
    "def get_target(x,y):\n",
    "    return [im[y,x,0]/256+0.001,im[y,x,1]/256+0.001,im[y,x,2]/256+0.001]\n",
    "\n",
    "def train(epox, fileName):   \n",
    "    fileName = fileName\n",
    "    for h in range(0,epox):\n",
    "        for n in range(0,400000):\n",
    "            x = random.randint(0,width-1)\n",
    "            y = random.randint(0,height-1)\n",
    "            inputs = get_inputs(x,y)\n",
    "            target = get_target(x,y)\n",
    "            nn.train(inputs,target)\n",
    "        generate_image()\n",
    "        imageio.imwrite(folder+str(fileName)+'.png', imout[:, :, :])\n",
    "        nn.saveWeight()\n",
    "        fileName += 1\n",
    "        \n",
    "def generate_image():\n",
    "    for x in range(0,width):\n",
    "        for y in range(0,height):\n",
    "            inputs = get_inputs(x,y)\n",
    "            result = nn.query(inputs)\n",
    "            imout[y,x,0] = result[0]*255\n",
    "            imout[y,x,1] = result[1]*255\n",
    "            imout[y,x,2] = result[2]*255\n",
    "    "
   ]
  },
  {
   "cell_type": "markdown",
   "id": "dfcfe021",
   "metadata": {},
   "source": [
    "## обучение и просмотр результата\n",
    "**epox** - количество прогонов (здесь 400000 рандомно-выбранных пиксель подаются на вход)    \n",
    "В качестве второго параметра передаётся число, которое будет использоваться в генерации имени первой картинки, которые сохраняются в папке *progres*    \n",
    "Как только результат удовлетворяет, то обучение можно прервать.    \n",
    "Все веса сохраняются в соответствующей папке"
   ]
  },
  {
   "cell_type": "code",
   "execution_count": null,
   "id": "b0c43082",
   "metadata": {},
   "outputs": [],
   "source": [
    "# создаём нейросеть\n",
    "nn = neuralNetwork(3, neuron_count, neuron_count, 3, learning_rate, loadWeights)\n",
    "\n",
    "epox = 1000\n",
    "train(epox, 0)\n",
    "\n",
    "# по окончании обучения, вывести картинку результата\n",
    "generate_image()\n",
    "matplotlib.pyplot.imshow(imout, interpolation='None')"
   ]
  }
 ],
 "metadata": {
  "kernelspec": {
   "display_name": "Python 3",
   "language": "python",
   "name": "python3"
  },
  "language_info": {
   "codemirror_mode": {
    "name": "ipython",
    "version": 3
   },
   "file_extension": ".py",
   "mimetype": "text/x-python",
   "name": "python",
   "nbconvert_exporter": "python",
   "pygments_lexer": "ipython3",
   "version": "3.8.8"
  }
 },
 "nbformat": 4,
 "nbformat_minor": 5
}
